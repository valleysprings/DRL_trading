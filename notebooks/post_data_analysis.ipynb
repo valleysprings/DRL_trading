{
 "cells": [
  {
   "cell_type": "code",
   "execution_count": 1,
   "metadata": {},
   "outputs": [
    {
     "name": "stderr",
     "output_type": "stream",
     "text": [
      "/home/david/anaconda3/envs/torch_RL/lib/python3.10/site-packages/pyfolio/pos.py:26: UserWarning: Module \"zipline.assets\" not found; mutltipliers will not be applied to position notionals.\n",
      "  warnings.warn(\n"
     ]
    }
   ],
   "source": [
    "import pandas as pd\n",
    "import numpy as np\n",
    "from datetime import datetime\n",
    "import sys\n",
    "sys.path.append(\"..\")\n",
    "import statistics\n",
    "from pyfolio import timeseries\n",
    "from copy import deepcopy\n",
    "\n",
    "from config import (\n",
    "    RESULTS_DIR,\n",
    "    INDICATORS,\n",
    "    TRAIN_START_DATE,\n",
    "    TRAIN_END_DATE,\n",
    "    VALID_1_START_DATE,\n",
    "    VALID_1_END_DATE,\n",
    "    VALID_2_START_DATE,\n",
    "    VALID_2_END_DATE,\n",
    "    TEST_START_DATE,\n",
    "    TEST_END_DATE\n",
    "    \n",
    ")\n",
    "import warnings\n",
    "warnings.filterwarnings('ignore')"
   ]
  },
  {
   "cell_type": "code",
   "execution_count": 2,
   "metadata": {},
   "outputs": [],
   "source": [
    "# tech_new_d = pd.read_csv(\"training/test_default_ppo_act_0.1_seed_42_new_reward.csv\", index_col=0)\n",
    "# tech_pnl_d = pd.read_csv(\"training/test_default_ppo_act_0.1_seed_42_pnl_reward.csv\", index_col=0)\n",
    "# tech_new_h = pd.read_csv(\"training/hour_test_default_ppo_act_0.1_seed_42_new_reward.csv\", index_col=0)\n",
    "# tech_pnl_h = pd.read_csv(\"training/hour_test_default_ppo_act_0.1_seed_42_pnl_reward.csv\", index_col=0)\n",
    "# tech_new_d.to_csv(\"training/test_default_ppo_act_0.1_seed_42_new_reward.csv\", index=False)\n",
    "# tech_pnl_d.to_csv(\"training/test_default_ppo_act_0.1_seed_42_pnl_reward.csv\", index=False)\n",
    "# tech_new_h.to_csv(\"training/hour_test_default_ppo_act_0.1_seed_42_new_reward.csv\", index=False)\n",
    "# tech_pnl_h.to_csv(\"training/hour_test_default_ppo_act_0.1_seed_42_pnl_reward.csv\", index=False)"
   ]
  },
  {
   "cell_type": "code",
   "execution_count": 3,
   "metadata": {},
   "outputs": [],
   "source": [
    "# stack_1_new_d = pd.read_csv(\"training/stack_1_test_default_ppo_act_0.1_seed_42_new_reward.csv\", index_col=0)\n",
    "# stack_1_pnl_d = pd.read_csv(\"training/stack_1_test_default_ppo_act_0.1_seed_42_pnl_reward.csv\", index_col=0)\n",
    "# stack_1_new_h = pd.read_csv(\"training/stack_1_hour_test_default_ppo_act_0.1_seed_42_new_reward.csv\", index_col=0)\n",
    "# stack_1_pnl_h = pd.read_csv(\"training/stack_1_hour_test_default_ppo_act_0.1_seed_42_pnl_reward.csv\", index_col=0)\n",
    "# stack_1_new_d.to_csv(\"training/stack_1_test_default_ppo_act_0.1_seed_42_new_reward.csv\", index=False)\n",
    "# stack_1_pnl_d.to_csv(\"training/stack_1_test_default_ppo_act_0.1_seed_42_pnl_reward.csv\", index=False)\n",
    "# stack_1_new_h.to_csv(\"training/stack_1_hour_test_default_ppo_act_0.1_seed_42_new_reward.csv\", index=False)\n",
    "# stack_1_pnl_h.to_csv(\"training/stack_1_hour_test_default_ppo_act_0.1_seed_42_pnl_reward.csv\", index=False)"
   ]
  },
  {
   "cell_type": "code",
   "execution_count": 4,
   "metadata": {},
   "outputs": [],
   "source": [
    "# stack_5_new_d = pd.read_csv(\"training/stack_5_test_default_ppo_act_0.1_seed_42_new_reward.csv\", index_col=0)\n",
    "# stack_5_pnl_d = pd.read_csv(\"training/stack_5_test_default_ppo_act_0.1_seed_42_pnl_reward.csv\", index_col=0)\n",
    "# stack_5_new_h = pd.read_csv(\"training/stack_5_hourly_test_default_ppo_act_0.1_seed_42_new_reward.csv\", index_col=0)\n",
    "# stack_5_pnl_h = pd.read_csv(\"training/stack_5_hourly_test_default_ppo_act_0.1_seed_42_pnl_reward.csv\", index_col=0)\n",
    "# stack_5_new_d.to_csv(\"training/stack_5_test_default_ppo_act_0.1_seed_42_new_reward.csv\", index=False)\n",
    "# stack_5_pnl_d.to_csv(\"training/stack_5_test_default_ppo_act_0.1_seed_42_pnl_reward.csv\", index=False)\n",
    "# stack_5_new_h.to_csv(\"training/stack_5_hourly_test_default_ppo_act_0.1_seed_42_new_reward.csv\", index=False)\n",
    "# stack_5_pnl_h.to_csv(\"training/stack_5_hourly_test_default_ppo_act_0.1_seed_42_pnl_reward.csv\", index=False)"
   ]
  },
  {
   "cell_type": "code",
   "execution_count": 5,
   "metadata": {},
   "outputs": [],
   "source": [
    "tech_new_d = pd.read_csv(\"training/test_default_ppo_act_0.1_seed_42_new_reward.csv\")\n",
    "tech_pnl_d = pd.read_csv(\"training/test_default_ppo_act_0.1_seed_42_pnl_reward.csv\")\n",
    "tech_new_h = pd.read_csv(\"training/hour_test_default_ppo_act_0.1_seed_42_new_reward.csv\")\n",
    "tech_pnl_h = pd.read_csv(\"training/hour_test_default_ppo_act_0.1_seed_42_pnl_reward.csv\")"
   ]
  },
  {
   "cell_type": "code",
   "execution_count": 6,
   "metadata": {},
   "outputs": [],
   "source": [
    "stack_1_new_d = pd.read_csv(\"training/stack_1_test_default_ppo_act_0.1_seed_42_new_reward.csv\")\n",
    "stack_1_pnl_d = pd.read_csv(\"training/stack_1_test_default_ppo_act_0.1_seed_42_pnl_reward.csv\")\n",
    "stack_1_new_h = pd.read_csv(\"training/stack_1_hour_test_default_ppo_act_0.1_seed_42_new_reward.csv\")\n",
    "stack_1_pnl_h = pd.read_csv(\"training/stack_1_hour_test_default_ppo_act_0.1_seed_42_pnl_reward.csv\")"
   ]
  },
  {
   "cell_type": "code",
   "execution_count": 7,
   "metadata": {},
   "outputs": [],
   "source": [
    "stack_5_new_d = pd.read_csv(\"training/stack_5_test_default_ppo_act_0.1_seed_42_new_reward.csv\")\n",
    "stack_5_pnl_d = pd.read_csv(\"training/stack_5_test_default_ppo_act_0.1_seed_42_pnl_reward.csv\")\n",
    "stack_5_new_h = pd.read_csv(\"training/stack_5_hourly_test_default_ppo_act_0.1_seed_42_new_reward.csv\")\n",
    "stack_5_pnl_h = pd.read_csv(\"training/stack_5_hourly_test_default_ppo_act_0.1_seed_42_pnl_reward.csv\")"
   ]
  },
  {
   "cell_type": "code",
   "execution_count": 8,
   "metadata": {},
   "outputs": [],
   "source": [
    "tech_new_h = tech_new_h[::24]\n",
    "tech_pnl_h = tech_pnl_h[::24]\n",
    "stack_1_new_h = stack_1_new_h[::24]\n",
    "stack_1_pnl_h = stack_1_pnl_h[::24]\n",
    "stack_5_new_h = stack_5_new_h[::24]\n",
    "stack_5_pnl_h = stack_5_pnl_h[::24]"
   ]
  },
  {
   "cell_type": "code",
   "execution_count": 9,
   "metadata": {},
   "outputs": [],
   "source": [
    "def get_daily_return(df, value_col_name=\"portfolio_value\"):\n",
    "    df = deepcopy(df)\n",
    "    df[\"daily_return\"] = df[value_col_name].pct_change(1)\n",
    "    df[\"timestamp\"] = pd.to_datetime(df[\"timestamp\"])\n",
    "    df.set_index(\"timestamp\", inplace=True, drop=True)\n",
    "    df.index = df.index.tz_localize(\"UTC\")\n",
    "    return pd.Series(df[\"daily_return\"], index=df.index)"
   ]
  },
  {
   "cell_type": "code",
   "execution_count": 10,
   "metadata": {},
   "outputs": [],
   "source": [
    "def backtest_stats(account_value, value_col_name=\"portfolio_value\"):\n",
    "    dr_test = get_daily_return(account_value, value_col_name=value_col_name)\n",
    "    perf_stats_all = timeseries.perf_stats(\n",
    "        returns=dr_test,\n",
    "        positions=None,\n",
    "        transactions=None,\n",
    "        turnover_denom=\"AGB\",\n",
    "    )\n",
    "    return perf_stats_all"
   ]
  },
  {
   "cell_type": "code",
   "execution_count": 11,
   "metadata": {},
   "outputs": [
    {
     "data": {
      "text/plain": [
       "Annual return          1.294762\n",
       "Cumulative returns     0.345349\n",
       "Annual volatility      0.417844\n",
       "Sharpe ratio           2.217769\n",
       "Calmar ratio           7.742478\n",
       "Stability              0.251247\n",
       "Max drawdown          -0.167228\n",
       "Omega ratio            1.459593\n",
       "Sortino ratio          3.800547\n",
       "Skew                        NaN\n",
       "Kurtosis                    NaN\n",
       "Tail ratio             1.252328\n",
       "Daily value at risk   -0.048966\n",
       "dtype: float64"
      ]
     },
     "execution_count": 11,
     "metadata": {},
     "output_type": "execute_result"
    }
   ],
   "source": [
    "backtest_stats(tech_new_d, \"round_1\")"
   ]
  },
  {
   "attachments": {},
   "cell_type": "markdown",
   "metadata": {},
   "source": [
    "## tech_added_score"
   ]
  },
  {
   "cell_type": "code",
   "execution_count": 12,
   "metadata": {},
   "outputs": [
    {
     "name": "stdout",
     "output_type": "stream",
     "text": [
      "Mean annualized return: 1.17\n",
      "Standard deviation of annualized return: 0.32\n",
      "Mean Sharpe ratio: 1.84\n",
      "Standard deviation of Sharpe ratio: 0.23\n",
      "Mean Sortino ratio: 2.99\n",
      "Standard deviation of Sortino ratio: 0.45\n",
      "Mean max drawdown: -0.23\n",
      "Standard deviation of max drawdown: 0.01\n"
     ]
    }
   ],
   "source": [
    "annualized_return = []\n",
    "Sharpe_ratio = []\n",
    "Max_drawdown = []\n",
    "Sortino_ratio = []\n",
    "\n",
    "\n",
    "for i in tech_new_d.columns[21:]:\n",
    "    res = backtest_stats(tech_new_d, i)\n",
    "    annualized_return.append(res[\"Annual return\"])\n",
    "    Sharpe_ratio.append(res[\"Sharpe ratio\"])\n",
    "    Sortino_ratio.append(res[\"Sortino ratio\"])\n",
    "    Max_drawdown.append(res[\"Max drawdown\"])\n",
    "    \n",
    "annualized_return_mean = statistics.mean(annualized_return)\n",
    "annualized_return_stdev = statistics.stdev(annualized_return)\n",
    "Sharpe_ratio_mean = statistics.mean(Sharpe_ratio)\n",
    "Sharpe_ratio_stdev = statistics.stdev(Sharpe_ratio)\n",
    "Sortino_ratio_mean = statistics.mean(Sortino_ratio)\n",
    "Sortino_ratio_stdev = statistics.stdev(Sortino_ratio)\n",
    "Max_drawdown_mean = statistics.mean(Max_drawdown)\n",
    "Max_drawdown_stdev = statistics.stdev(Max_drawdown)\n",
    "\n",
    "print(\"Mean annualized return: %.2f\" %  annualized_return_mean)\n",
    "print(\"Standard deviation of annualized return: %.2f\" % annualized_return_stdev)\n",
    "print(\"Mean Sharpe ratio: %.2f\" % Sharpe_ratio_mean)\n",
    "print(\"Standard deviation of Sharpe ratio: %.2f\" % Sharpe_ratio_stdev)\n",
    "print(\"Mean Sortino ratio: %.2f\" % Sortino_ratio_mean)\n",
    "print(\"Standard deviation of Sortino ratio: %.2f\" % Sortino_ratio_stdev)\n",
    "print(\"Mean max drawdown: %.2f\" % Max_drawdown_mean)\n",
    "print(\"Standard deviation of max drawdown: %.2f\" % Max_drawdown_stdev)"
   ]
  },
  {
   "cell_type": "code",
   "execution_count": 13,
   "metadata": {},
   "outputs": [
    {
     "name": "stdout",
     "output_type": "stream",
     "text": [
      "Mean annualized return: 0.37\n",
      "Standard deviation of annualized return: 0.27\n",
      "Mean Sharpe ratio: 0.81\n",
      "Standard deviation of Sharpe ratio: 0.40\n",
      "Mean Sortino ratio: 1.26\n",
      "Standard deviation of Sortino ratio: 0.63\n",
      "Mean max drawdown: -0.32\n",
      "Standard deviation of max drawdown: 0.04\n"
     ]
    }
   ],
   "source": [
    "annualized_return = []\n",
    "Sharpe_ratio = []\n",
    "Max_drawdown = []\n",
    "Sortino_ratio = []\n",
    "\n",
    "for i in tech_new_h.columns[21:]:\n",
    "    res = backtest_stats(tech_new_h, i)\n",
    "    annualized_return.append(res[\"Annual return\"])\n",
    "    Sharpe_ratio.append(res[\"Sharpe ratio\"])\n",
    "    Sortino_ratio.append(res[\"Sortino ratio\"])\n",
    "    Max_drawdown.append(res[\"Max drawdown\"])\n",
    "    \n",
    "annualized_return_mean = statistics.mean(annualized_return)\n",
    "annualized_return_stdev = statistics.stdev(annualized_return)\n",
    "Sharpe_ratio_mean = statistics.mean(Sharpe_ratio)\n",
    "Sharpe_ratio_stdev = statistics.stdev(Sharpe_ratio)\n",
    "Sortino_ratio_mean = statistics.mean(Sortino_ratio)\n",
    "Sortino_ratio_stdev = statistics.stdev(Sortino_ratio)\n",
    "Max_drawdown_mean = statistics.mean(Max_drawdown)\n",
    "Max_drawdown_stdev = statistics.stdev(Max_drawdown)\n",
    "\n",
    "print(\"Mean annualized return: %.2f\" %  annualized_return_mean)\n",
    "print(\"Standard deviation of annualized return: %.2f\" % annualized_return_stdev)\n",
    "print(\"Mean Sharpe ratio: %.2f\" % Sharpe_ratio_mean)\n",
    "print(\"Standard deviation of Sharpe ratio: %.2f\" % Sharpe_ratio_stdev)\n",
    "print(\"Mean Sortino ratio: %.2f\" % Sortino_ratio_mean)\n",
    "print(\"Standard deviation of Sortino ratio: %.2f\" % Sortino_ratio_stdev)\n",
    "print(\"Mean max drawdown: %.2f\" % Max_drawdown_mean)\n",
    "print(\"Standard deviation of max drawdown: %.2f\" % Max_drawdown_stdev)"
   ]
  },
  {
   "cell_type": "code",
   "execution_count": 14,
   "metadata": {},
   "outputs": [
    {
     "name": "stdout",
     "output_type": "stream",
     "text": [
      "Mean annualized return: 1.89\n",
      "Standard deviation of annualized return: 0.25\n",
      "Mean Sharpe ratio: 2.46\n",
      "Standard deviation of Sharpe ratio: 0.16\n",
      "Mean Sortino ratio: 4.20\n",
      "Standard deviation of Sortino ratio: 0.36\n",
      "Mean max drawdown: -0.19\n",
      "Standard deviation of max drawdown: 0.02\n"
     ]
    }
   ],
   "source": [
    "annualized_return = []\n",
    "Sharpe_ratio = []\n",
    "Max_drawdown = []\n",
    "Sortino_ratio = []\n",
    "\n",
    "for i in tech_pnl_d.columns[21:]:\n",
    "    res = backtest_stats(tech_pnl_d, i)\n",
    "    annualized_return.append(res[\"Annual return\"])\n",
    "    Sharpe_ratio.append(res[\"Sharpe ratio\"])\n",
    "    Sortino_ratio.append(res[\"Sortino ratio\"])\n",
    "    Max_drawdown.append(res[\"Max drawdown\"])\n",
    "    \n",
    "annualized_return_mean = statistics.mean(annualized_return)\n",
    "annualized_return_stdev = statistics.stdev(annualized_return)\n",
    "Sharpe_ratio_mean = statistics.mean(Sharpe_ratio)\n",
    "Sharpe_ratio_stdev = statistics.stdev(Sharpe_ratio)\n",
    "Sortino_ratio_mean = statistics.mean(Sortino_ratio)\n",
    "Sortino_ratio_stdev = statistics.stdev(Sortino_ratio)\n",
    "Max_drawdown_mean = statistics.mean(Max_drawdown)\n",
    "Max_drawdown_stdev = statistics.stdev(Max_drawdown)\n",
    "\n",
    "print(\"Mean annualized return: %.2f\" %  annualized_return_mean)\n",
    "print(\"Standard deviation of annualized return: %.2f\" % annualized_return_stdev)\n",
    "print(\"Mean Sharpe ratio: %.2f\" % Sharpe_ratio_mean)\n",
    "print(\"Standard deviation of Sharpe ratio: %.2f\" % Sharpe_ratio_stdev)\n",
    "print(\"Mean Sortino ratio: %.2f\" % Sortino_ratio_mean)\n",
    "print(\"Standard deviation of Sortino ratio: %.2f\" % Sortino_ratio_stdev)\n",
    "print(\"Mean max drawdown: %.2f\" % Max_drawdown_mean)\n",
    "print(\"Standard deviation of max drawdown: %.2f\" % Max_drawdown_stdev)"
   ]
  },
  {
   "cell_type": "code",
   "execution_count": 15,
   "metadata": {},
   "outputs": [
    {
     "name": "stdout",
     "output_type": "stream",
     "text": [
      "Mean annualized return: 2.18\n",
      "Standard deviation of annualized return: 0.92\n",
      "Mean Sharpe ratio: 2.32\n",
      "Standard deviation of Sharpe ratio: 0.16\n",
      "Mean Sortino ratio: 3.98\n",
      "Standard deviation of Sortino ratio: 0.40\n",
      "Mean max drawdown: -0.22\n",
      "Standard deviation of max drawdown: 0.04\n"
     ]
    }
   ],
   "source": [
    "annualized_return = []\n",
    "Sharpe_ratio = []\n",
    "Max_drawdown = []\n",
    "Sortino_ratio = []\n",
    "\n",
    "for i in tech_pnl_h.columns[21:]:\n",
    "    res = backtest_stats(tech_pnl_h, i)\n",
    "    annualized_return.append(res[\"Annual return\"])\n",
    "    Sharpe_ratio.append(res[\"Sharpe ratio\"])\n",
    "    Sortino_ratio.append(res[\"Sortino ratio\"])\n",
    "    Max_drawdown.append(res[\"Max drawdown\"])\n",
    "    \n",
    "annualized_return_mean = statistics.mean(annualized_return)\n",
    "annualized_return_stdev = statistics.stdev(annualized_return)\n",
    "Sharpe_ratio_mean = statistics.mean(Sharpe_ratio)\n",
    "Sharpe_ratio_stdev = statistics.stdev(Sharpe_ratio)\n",
    "Sortino_ratio_mean = statistics.mean(Sortino_ratio)\n",
    "Sortino_ratio_stdev = statistics.stdev(Sortino_ratio)\n",
    "Max_drawdown_mean = statistics.mean(Max_drawdown)\n",
    "Max_drawdown_stdev = statistics.stdev(Max_drawdown)\n",
    "\n",
    "print(\"Mean annualized return: %.2f\" %  annualized_return_mean)\n",
    "print(\"Standard deviation of annualized return: %.2f\" % annualized_return_stdev)\n",
    "print(\"Mean Sharpe ratio: %.2f\" % Sharpe_ratio_mean)\n",
    "print(\"Standard deviation of Sharpe ratio: %.2f\" % Sharpe_ratio_stdev)\n",
    "print(\"Mean Sortino ratio: %.2f\" % Sortino_ratio_mean)\n",
    "print(\"Standard deviation of Sortino ratio: %.2f\" % Sortino_ratio_stdev)\n",
    "print(\"Mean max drawdown: %.2f\" % Max_drawdown_mean)\n",
    "print(\"Standard deviation of max drawdown: %.2f\" % Max_drawdown_stdev)"
   ]
  },
  {
   "attachments": {},
   "cell_type": "markdown",
   "metadata": {},
   "source": [
    "## stack_1_added_score"
   ]
  },
  {
   "cell_type": "code",
   "execution_count": 16,
   "metadata": {},
   "outputs": [
    {
     "name": "stdout",
     "output_type": "stream",
     "text": [
      "Mean annualized return: 2.06\n",
      "Standard deviation of annualized return: 0.90\n",
      "Mean Sharpe ratio: 2.31\n",
      "Standard deviation of Sharpe ratio: 0.37\n",
      "Mean Sortino ratio: 4.14\n",
      "Standard deviation of Sortino ratio: 0.95\n",
      "Mean max drawdown: -0.22\n",
      "Standard deviation of max drawdown: 0.01\n"
     ]
    }
   ],
   "source": [
    "annualized_return = []\n",
    "Sharpe_ratio = []\n",
    "Max_drawdown = []\n",
    "Sortino_ratio = []\n",
    "\n",
    "for i in stack_1_new_d.columns[21:]:\n",
    "    res = backtest_stats(stack_1_new_d, i)\n",
    "    annualized_return.append(res[\"Annual return\"])\n",
    "    Sharpe_ratio.append(res[\"Sharpe ratio\"])\n",
    "    Sortino_ratio.append(res[\"Sortino ratio\"])\n",
    "    Max_drawdown.append(res[\"Max drawdown\"])\n",
    "    \n",
    "annualized_return_mean = statistics.mean(annualized_return)\n",
    "annualized_return_stdev = statistics.stdev(annualized_return)\n",
    "Sharpe_ratio_mean = statistics.mean(Sharpe_ratio)\n",
    "Sharpe_ratio_stdev = statistics.stdev(Sharpe_ratio)\n",
    "Sortino_ratio_mean = statistics.mean(Sortino_ratio)\n",
    "Sortino_ratio_stdev = statistics.stdev(Sortino_ratio)\n",
    "Max_drawdown_mean = statistics.mean(Max_drawdown)\n",
    "Max_drawdown_stdev = statistics.stdev(Max_drawdown)\n",
    "\n",
    "print(\"Mean annualized return: %.2f\" %  annualized_return_mean)\n",
    "print(\"Standard deviation of annualized return: %.2f\" % annualized_return_stdev)\n",
    "print(\"Mean Sharpe ratio: %.2f\" % Sharpe_ratio_mean)\n",
    "print(\"Standard deviation of Sharpe ratio: %.2f\" % Sharpe_ratio_stdev)\n",
    "print(\"Mean Sortino ratio: %.2f\" % Sortino_ratio_mean)\n",
    "print(\"Standard deviation of Sortino ratio: %.2f\" % Sortino_ratio_stdev)\n",
    "print(\"Mean max drawdown: %.2f\" % Max_drawdown_mean)\n",
    "print(\"Standard deviation of max drawdown: %.2f\" % Max_drawdown_stdev)"
   ]
  },
  {
   "cell_type": "code",
   "execution_count": 17,
   "metadata": {},
   "outputs": [
    {
     "name": "stdout",
     "output_type": "stream",
     "text": [
      "Mean annualized return: 0.64\n",
      "Standard deviation of annualized return: 0.67\n",
      "Mean Sharpe ratio: 1.05\n",
      "Standard deviation of Sharpe ratio: 0.57\n",
      "Mean Sortino ratio: 1.61\n",
      "Standard deviation of Sortino ratio: 1.04\n",
      "Mean max drawdown: -0.25\n",
      "Standard deviation of max drawdown: 0.04\n"
     ]
    }
   ],
   "source": [
    "annualized_return = []\n",
    "Sharpe_ratio = []\n",
    "Max_drawdown = []\n",
    "Sortino_ratio = []\n",
    "\n",
    "\n",
    "for i in stack_1_new_h.columns[21:]:\n",
    "    res = backtest_stats(stack_1_new_h, i)\n",
    "    annualized_return.append(res[\"Annual return\"])\n",
    "    Sharpe_ratio.append(res[\"Sharpe ratio\"])\n",
    "    Sortino_ratio.append(res[\"Sortino ratio\"])\n",
    "    Max_drawdown.append(res[\"Max drawdown\"])\n",
    "    \n",
    "annualized_return_mean = statistics.mean(annualized_return)\n",
    "annualized_return_stdev = statistics.stdev(annualized_return)\n",
    "Sharpe_ratio_mean = statistics.mean(Sharpe_ratio)\n",
    "Sharpe_ratio_stdev = statistics.stdev(Sharpe_ratio)\n",
    "Sortino_ratio_mean = statistics.mean(Sortino_ratio)\n",
    "Sortino_ratio_stdev = statistics.stdev(Sortino_ratio)\n",
    "Max_drawdown_mean = statistics.mean(Max_drawdown)\n",
    "Max_drawdown_stdev = statistics.stdev(Max_drawdown)\n",
    "\n",
    "print(\"Mean annualized return: %.2f\" %  annualized_return_mean)\n",
    "print(\"Standard deviation of annualized return: %.2f\" % annualized_return_stdev)\n",
    "print(\"Mean Sharpe ratio: %.2f\" % Sharpe_ratio_mean)\n",
    "print(\"Standard deviation of Sharpe ratio: %.2f\" % Sharpe_ratio_stdev)\n",
    "print(\"Mean Sortino ratio: %.2f\" % Sortino_ratio_mean)\n",
    "print(\"Standard deviation of Sortino ratio: %.2f\" % Sortino_ratio_stdev)\n",
    "print(\"Mean max drawdown: %.2f\" % Max_drawdown_mean)\n",
    "print(\"Standard deviation of max drawdown: %.2f\" % Max_drawdown_stdev)"
   ]
  },
  {
   "cell_type": "code",
   "execution_count": 18,
   "metadata": {},
   "outputs": [
    {
     "name": "stdout",
     "output_type": "stream",
     "text": [
      "Mean annualized return: 2.79\n",
      "Standard deviation of annualized return: 0.00\n",
      "Mean Sharpe ratio: 2.53\n",
      "Standard deviation of Sharpe ratio: 0.00\n",
      "Mean Sortino ratio: 4.44\n",
      "Standard deviation of Sortino ratio: 0.00\n",
      "Mean max drawdown: -0.25\n",
      "Standard deviation of max drawdown: 0.00\n"
     ]
    }
   ],
   "source": [
    "annualized_return = []\n",
    "Sharpe_ratio = []\n",
    "Max_drawdown = []\n",
    "Sortino_ratio = []\n",
    "\n",
    "\n",
    "for i in stack_1_pnl_d.columns[21:]:\n",
    "    res = backtest_stats(stack_1_pnl_d, i)\n",
    "    annualized_return.append(res[\"Annual return\"])\n",
    "    Sharpe_ratio.append(res[\"Sharpe ratio\"])\n",
    "    Sortino_ratio.append(res[\"Sortino ratio\"])\n",
    "    Max_drawdown.append(res[\"Max drawdown\"])\n",
    "    \n",
    "annualized_return_mean = statistics.mean(annualized_return)\n",
    "annualized_return_stdev = statistics.stdev(annualized_return)\n",
    "Sharpe_ratio_mean = statistics.mean(Sharpe_ratio)\n",
    "Sharpe_ratio_stdev = statistics.stdev(Sharpe_ratio)\n",
    "Sortino_ratio_mean = statistics.mean(Sortino_ratio)\n",
    "Sortino_ratio_stdev = statistics.stdev(Sortino_ratio)\n",
    "Max_drawdown_mean = statistics.mean(Max_drawdown)\n",
    "Max_drawdown_stdev = statistics.stdev(Max_drawdown)\n",
    "\n",
    "print(\"Mean annualized return: %.2f\" %  annualized_return_mean)\n",
    "print(\"Standard deviation of annualized return: %.2f\" % annualized_return_stdev)\n",
    "print(\"Mean Sharpe ratio: %.2f\" % Sharpe_ratio_mean)\n",
    "print(\"Standard deviation of Sharpe ratio: %.2f\" % Sharpe_ratio_stdev)\n",
    "print(\"Mean Sortino ratio: %.2f\" % Sortino_ratio_mean)\n",
    "print(\"Standard deviation of Sortino ratio: %.2f\" % Sortino_ratio_stdev)\n",
    "print(\"Mean max drawdown: %.2f\" % Max_drawdown_mean)\n",
    "print(\"Standard deviation of max drawdown: %.2f\" % Max_drawdown_stdev)"
   ]
  },
  {
   "cell_type": "code",
   "execution_count": 19,
   "metadata": {},
   "outputs": [
    {
     "name": "stdout",
     "output_type": "stream",
     "text": [
      "Mean annualized return: 1.35\n",
      "Standard deviation of annualized return: 0.43\n",
      "Mean Sharpe ratio: 2.01\n",
      "Standard deviation of Sharpe ratio: 0.35\n",
      "Mean Sortino ratio: 3.19\n",
      "Standard deviation of Sortino ratio: 0.78\n",
      "Mean max drawdown: -0.19\n",
      "Standard deviation of max drawdown: 0.03\n"
     ]
    }
   ],
   "source": [
    "annualized_return = []\n",
    "Sharpe_ratio = []\n",
    "Max_drawdown = []\n",
    "Sortino_ratio = []\n",
    "\n",
    "\n",
    "for i in stack_1_pnl_h.columns[21:]:\n",
    "    res = backtest_stats(stack_1_pnl_h, i)\n",
    "    annualized_return.append(res[\"Annual return\"])\n",
    "    Sharpe_ratio.append(res[\"Sharpe ratio\"])\n",
    "    Sortino_ratio.append(res[\"Sortino ratio\"])\n",
    "    Max_drawdown.append(res[\"Max drawdown\"])\n",
    "    \n",
    "annualized_return_mean = statistics.mean(annualized_return)\n",
    "annualized_return_stdev = statistics.stdev(annualized_return)\n",
    "Sharpe_ratio_mean = statistics.mean(Sharpe_ratio)\n",
    "Sharpe_ratio_stdev = statistics.stdev(Sharpe_ratio)\n",
    "Sortino_ratio_mean = statistics.mean(Sortino_ratio)\n",
    "Sortino_ratio_stdev = statistics.stdev(Sortino_ratio)\n",
    "Max_drawdown_mean = statistics.mean(Max_drawdown)\n",
    "Max_drawdown_stdev = statistics.stdev(Max_drawdown)\n",
    "\n",
    "print(\"Mean annualized return: %.2f\" %  annualized_return_mean)\n",
    "print(\"Standard deviation of annualized return: %.2f\" % annualized_return_stdev)\n",
    "print(\"Mean Sharpe ratio: %.2f\" % Sharpe_ratio_mean)\n",
    "print(\"Standard deviation of Sharpe ratio: %.2f\" % Sharpe_ratio_stdev)\n",
    "print(\"Mean Sortino ratio: %.2f\" % Sortino_ratio_mean)\n",
    "print(\"Standard deviation of Sortino ratio: %.2f\" % Sortino_ratio_stdev)\n",
    "print(\"Mean max drawdown: %.2f\" % Max_drawdown_mean)\n",
    "print(\"Standard deviation of max drawdown: %.2f\" % Max_drawdown_stdev)"
   ]
  },
  {
   "attachments": {},
   "cell_type": "markdown",
   "metadata": {},
   "source": [
    "## stack_5_added_score"
   ]
  },
  {
   "cell_type": "code",
   "execution_count": 20,
   "metadata": {},
   "outputs": [
    {
     "name": "stdout",
     "output_type": "stream",
     "text": [
      "Mean annualized return: 0.75\n",
      "Standard deviation of annualized return: 0.21\n",
      "Mean Sharpe ratio: 1.56\n",
      "Standard deviation of Sharpe ratio: 0.26\n",
      "Mean Sortino ratio: 2.54\n",
      "Standard deviation of Sortino ratio: 0.50\n",
      "Mean max drawdown: -0.20\n",
      "Standard deviation of max drawdown: 0.01\n"
     ]
    }
   ],
   "source": [
    "annualized_return = []\n",
    "Sharpe_ratio = []\n",
    "Max_drawdown = []\n",
    "Sortino_ratio = []\n",
    "\n",
    "\n",
    "for i in stack_5_new_d.columns[21:]:\n",
    "    res = backtest_stats(stack_5_new_d, i)\n",
    "    annualized_return.append(res[\"Annual return\"])\n",
    "    Sharpe_ratio.append(res[\"Sharpe ratio\"])\n",
    "    Sortino_ratio.append(res[\"Sortino ratio\"])\n",
    "    Max_drawdown.append(res[\"Max drawdown\"])\n",
    "    \n",
    "annualized_return_mean = statistics.mean(annualized_return)\n",
    "annualized_return_stdev = statistics.stdev(annualized_return)\n",
    "Sharpe_ratio_mean = statistics.mean(Sharpe_ratio)\n",
    "Sharpe_ratio_stdev = statistics.stdev(Sharpe_ratio)\n",
    "Sortino_ratio_mean = statistics.mean(Sortino_ratio)\n",
    "Sortino_ratio_stdev = statistics.stdev(Sortino_ratio)\n",
    "Max_drawdown_mean = statistics.mean(Max_drawdown)\n",
    "Max_drawdown_stdev = statistics.stdev(Max_drawdown)\n",
    "\n",
    "print(\"Mean annualized return: %.2f\" %  annualized_return_mean)\n",
    "print(\"Standard deviation of annualized return: %.2f\" % annualized_return_stdev)\n",
    "print(\"Mean Sharpe ratio: %.2f\" % Sharpe_ratio_mean)\n",
    "print(\"Standard deviation of Sharpe ratio: %.2f\" % Sharpe_ratio_stdev)\n",
    "print(\"Mean Sortino ratio: %.2f\" % Sortino_ratio_mean)\n",
    "print(\"Standard deviation of Sortino ratio: %.2f\" % Sortino_ratio_stdev)\n",
    "print(\"Mean max drawdown: %.2f\" % Max_drawdown_mean)\n",
    "print(\"Standard deviation of max drawdown: %.2f\" % Max_drawdown_stdev)"
   ]
  },
  {
   "cell_type": "code",
   "execution_count": 21,
   "metadata": {},
   "outputs": [
    {
     "name": "stdout",
     "output_type": "stream",
     "text": [
      "Mean annualized return: 1.22\n",
      "Standard deviation of annualized return: 0.70\n",
      "Mean Sharpe ratio: 1.59\n",
      "Standard deviation of Sharpe ratio: 0.79\n",
      "Mean Sortino ratio: 3.01\n",
      "Standard deviation of Sortino ratio: 1.55\n",
      "Mean max drawdown: -0.21\n",
      "Standard deviation of max drawdown: 0.02\n"
     ]
    }
   ],
   "source": [
    "annualized_return = []\n",
    "Sharpe_ratio = []\n",
    "Max_drawdown = []\n",
    "Sortino_ratio = []\n",
    "\n",
    "\n",
    "for i in stack_5_new_h.columns[21:]:\n",
    "    res = backtest_stats(stack_5_new_h, i)\n",
    "    annualized_return.append(res[\"Annual return\"])\n",
    "    Sharpe_ratio.append(res[\"Sharpe ratio\"])\n",
    "    Sortino_ratio.append(res[\"Sortino ratio\"])\n",
    "    Max_drawdown.append(res[\"Max drawdown\"])\n",
    "    \n",
    "annualized_return_mean = statistics.mean(annualized_return)\n",
    "annualized_return_stdev = statistics.stdev(annualized_return)\n",
    "Sharpe_ratio_mean = statistics.mean(Sharpe_ratio)\n",
    "Sharpe_ratio_stdev = statistics.stdev(Sharpe_ratio)\n",
    "Sortino_ratio_mean = statistics.mean(Sortino_ratio)\n",
    "Sortino_ratio_stdev = statistics.stdev(Sortino_ratio)\n",
    "Max_drawdown_mean = statistics.mean(Max_drawdown)\n",
    "Max_drawdown_stdev = statistics.stdev(Max_drawdown)\n",
    "\n",
    "print(\"Mean annualized return: %.2f\" %  annualized_return_mean)\n",
    "print(\"Standard deviation of annualized return: %.2f\" % annualized_return_stdev)\n",
    "print(\"Mean Sharpe ratio: %.2f\" % Sharpe_ratio_mean)\n",
    "print(\"Standard deviation of Sharpe ratio: %.2f\" % Sharpe_ratio_stdev)\n",
    "print(\"Mean Sortino ratio: %.2f\" % Sortino_ratio_mean)\n",
    "print(\"Standard deviation of Sortino ratio: %.2f\" % Sortino_ratio_stdev)\n",
    "print(\"Mean max drawdown: %.2f\" % Max_drawdown_mean)\n",
    "print(\"Standard deviation of max drawdown: %.2f\" % Max_drawdown_stdev)"
   ]
  },
  {
   "cell_type": "code",
   "execution_count": 22,
   "metadata": {},
   "outputs": [
    {
     "name": "stdout",
     "output_type": "stream",
     "text": [
      "Mean annualized return: 0.91\n",
      "Standard deviation of annualized return: 0.11\n",
      "Mean Sharpe ratio: 1.59\n",
      "Standard deviation of Sharpe ratio: 0.12\n",
      "Mean Sortino ratio: 2.33\n",
      "Standard deviation of Sortino ratio: 0.22\n",
      "Mean max drawdown: -0.20\n",
      "Standard deviation of max drawdown: 0.00\n"
     ]
    }
   ],
   "source": [
    "annualized_return = []\n",
    "Sharpe_ratio = []\n",
    "Max_drawdown = []\n",
    "Sortino_ratio = []\n",
    "\n",
    "\n",
    "for i in stack_5_pnl_d.columns[21:]:\n",
    "    res = backtest_stats(stack_5_pnl_d, i)\n",
    "    annualized_return.append(res[\"Annual return\"])\n",
    "    Sharpe_ratio.append(res[\"Sharpe ratio\"])\n",
    "    Sortino_ratio.append(res[\"Sortino ratio\"])\n",
    "    Max_drawdown.append(res[\"Max drawdown\"])\n",
    "    \n",
    "annualized_return_mean = statistics.mean(annualized_return)\n",
    "annualized_return_stdev = statistics.stdev(annualized_return)\n",
    "Sharpe_ratio_mean = statistics.mean(Sharpe_ratio)\n",
    "Sharpe_ratio_stdev = statistics.stdev(Sharpe_ratio)\n",
    "Sortino_ratio_mean = statistics.mean(Sortino_ratio)\n",
    "Sortino_ratio_stdev = statistics.stdev(Sortino_ratio)\n",
    "Max_drawdown_mean = statistics.mean(Max_drawdown)\n",
    "Max_drawdown_stdev = statistics.stdev(Max_drawdown)\n",
    "\n",
    "print(\"Mean annualized return: %.2f\" %  annualized_return_mean)\n",
    "print(\"Standard deviation of annualized return: %.2f\" % annualized_return_stdev)\n",
    "print(\"Mean Sharpe ratio: %.2f\" % Sharpe_ratio_mean)\n",
    "print(\"Standard deviation of Sharpe ratio: %.2f\" % Sharpe_ratio_stdev)\n",
    "print(\"Mean Sortino ratio: %.2f\" % Sortino_ratio_mean)\n",
    "print(\"Standard deviation of Sortino ratio: %.2f\" % Sortino_ratio_stdev)\n",
    "print(\"Mean max drawdown: %.2f\" % Max_drawdown_mean)\n",
    "print(\"Standard deviation of max drawdown: %.2f\" % Max_drawdown_stdev)"
   ]
  },
  {
   "cell_type": "code",
   "execution_count": 23,
   "metadata": {},
   "outputs": [
    {
     "name": "stdout",
     "output_type": "stream",
     "text": [
      "Mean annualized return: 0.71\n",
      "Standard deviation of annualized return: 0.69\n",
      "Mean Sharpe ratio: 1.09\n",
      "Standard deviation of Sharpe ratio: 0.83\n",
      "Mean Sortino ratio: 1.71\n",
      "Standard deviation of Sortino ratio: 1.29\n",
      "Mean max drawdown: -0.26\n",
      "Standard deviation of max drawdown: 0.06\n"
     ]
    }
   ],
   "source": [
    "annualized_return = []\n",
    "Sharpe_ratio = []\n",
    "Max_drawdown = []\n",
    "Sortino_ratio = []\n",
    "\n",
    "for i in stack_5_pnl_h.columns[21:]:\n",
    "    res = backtest_stats(stack_5_pnl_h, i)\n",
    "    annualized_return.append(res[\"Annual return\"])\n",
    "    Sharpe_ratio.append(res[\"Sharpe ratio\"])\n",
    "    Sortino_ratio.append(res[\"Sortino ratio\"])\n",
    "    Max_drawdown.append(res[\"Max drawdown\"])\n",
    "    \n",
    "annualized_return_mean = statistics.mean(annualized_return)\n",
    "annualized_return_stdev = statistics.stdev(annualized_return)\n",
    "Sharpe_ratio_mean = statistics.mean(Sharpe_ratio)\n",
    "Sharpe_ratio_stdev = statistics.stdev(Sharpe_ratio)\n",
    "Sortino_ratio_mean = statistics.mean(Sortino_ratio)\n",
    "Sortino_ratio_stdev = statistics.stdev(Sortino_ratio)\n",
    "Max_drawdown_mean = statistics.mean(Max_drawdown)\n",
    "Max_drawdown_stdev = statistics.stdev(Max_drawdown)\n",
    "\n",
    "print(\"Mean annualized return: %.2f\" %  annualized_return_mean)\n",
    "print(\"Standard deviation of annualized return: %.2f\" % annualized_return_stdev)\n",
    "print(\"Mean Sharpe ratio: %.2f\" % Sharpe_ratio_mean)\n",
    "print(\"Standard deviation of Sharpe ratio: %.2f\" % Sharpe_ratio_stdev)\n",
    "print(\"Mean Sortino ratio: %.2f\" % Sortino_ratio_mean)\n",
    "print(\"Standard deviation of Sortino ratio: %.2f\" % Sortino_ratio_stdev)\n",
    "print(\"Mean max drawdown: %.2f\" % Max_drawdown_mean)\n",
    "print(\"Standard deviation of max drawdown: %.2f\" % Max_drawdown_stdev)"
   ]
  }
 ],
 "metadata": {
  "kernelspec": {
   "display_name": "torch_RL",
   "language": "python",
   "name": "python3"
  },
  "language_info": {
   "codemirror_mode": {
    "name": "ipython",
    "version": 3
   },
   "file_extension": ".py",
   "mimetype": "text/x-python",
   "name": "python",
   "nbconvert_exporter": "python",
   "pygments_lexer": "ipython3",
   "version": "3.10.6"
  },
  "orig_nbformat": 4
 },
 "nbformat": 4,
 "nbformat_minor": 2
}
