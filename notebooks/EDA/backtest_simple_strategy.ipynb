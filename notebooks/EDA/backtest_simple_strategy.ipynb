{
 "cells": [
  {
   "cell_type": "code",
   "execution_count": 2,
   "metadata": {},
   "outputs": [
    {
     "name": "stderr",
     "output_type": "stream",
     "text": [
      "/home/david/anaconda3/envs/torch_RL/lib/python3.10/site-packages/pyfolio/pos.py:26: UserWarning: Module \"zipline.assets\" not found; mutltipliers will not be applied to position notionals.\n",
      "  warnings.warn(\n"
     ]
    }
   ],
   "source": [
    "import pandas as pd\n",
    "import numpy as np\n",
    "from datetime import datetime\n",
    "import sys\n",
    "sys.path.append(\"../..\")\n",
    "import pyfolio\n",
    "from pyfolio import timeseries\n",
    "from copy import deepcopy\n",
    "from config import (\n",
    "    RESULTS_DIR,\n",
    "    INDICATORS,\n",
    "    TRAIN_START_DATE,\n",
    "    TRAIN_END_DATE,\n",
    "    VALID_1_START_DATE,\n",
    "    VALID_1_END_DATE,\n",
    "    VALID_2_START_DATE,\n",
    "    VALID_2_END_DATE,\n",
    "    TEST_START_DATE,\n",
    "    TEST_END_DATE\n",
    "    \n",
    ")\n",
    "\n",
    "import warnings\n",
    "warnings.filterwarnings('ignore')"
   ]
  },
  {
   "cell_type": "code",
   "execution_count": 3,
   "metadata": {},
   "outputs": [],
   "source": [
    "price = pd.read_csv(\"../../dataset/daily-level/crypto_raw_t10_2023-04-01.csv\")\n",
    "price.rename(columns={\"tic\": \"symbol\", \"timestamp\": \"Date\"}, inplace=True)\n",
    "price = price.set_index(\"Date\")"
   ]
  },
  {
   "cell_type": "code",
   "execution_count": 4,
   "metadata": {},
   "outputs": [],
   "source": [
    "def get_daily_return(df, value_col_name=\"portfolio_value\"):\n",
    "    df = deepcopy(df)\n",
    "    df[\"daily_return\"] = df[value_col_name].pct_change(1)\n",
    "    df[\"timestamp\"] = pd.to_datetime(df[\"timestamp\"])\n",
    "    df.set_index(\"timestamp\", inplace=True, drop=True)\n",
    "    df.index = df.index.tz_localize(\"UTC\")\n",
    "    return pd.Series(df[\"daily_return\"], index=df.index)"
   ]
  },
  {
   "cell_type": "code",
   "execution_count": 5,
   "metadata": {},
   "outputs": [],
   "source": [
    "def backtest_stats(account_value, value_col_name=\"portfolio_value\"):\n",
    "    dr_test = get_daily_return(account_value, value_col_name=value_col_name)\n",
    "    perf_stats_all = timeseries.perf_stats(\n",
    "        returns=dr_test,\n",
    "        positions=None,\n",
    "        transactions=None,\n",
    "        turnover_denom=\"AGB\",\n",
    "    )\n",
    "    return perf_stats_all"
   ]
  },
  {
   "cell_type": "code",
   "execution_count": 6,
   "metadata": {},
   "outputs": [
    {
     "data": {
      "text/html": [
       "<div>\n",
       "<style scoped>\n",
       "    .dataframe tbody tr th:only-of-type {\n",
       "        vertical-align: middle;\n",
       "    }\n",
       "\n",
       "    .dataframe tbody tr th {\n",
       "        vertical-align: top;\n",
       "    }\n",
       "\n",
       "    .dataframe thead th {\n",
       "        text-align: right;\n",
       "    }\n",
       "</style>\n",
       "<table border=\"1\" class=\"dataframe\">\n",
       "  <thead>\n",
       "    <tr style=\"text-align: right;\">\n",
       "      <th></th>\n",
       "      <th>open</th>\n",
       "      <th>high</th>\n",
       "      <th>low</th>\n",
       "      <th>volume</th>\n",
       "      <th>symbol</th>\n",
       "      <th>close</th>\n",
       "    </tr>\n",
       "    <tr>\n",
       "      <th>Date</th>\n",
       "      <th></th>\n",
       "      <th></th>\n",
       "      <th></th>\n",
       "      <th></th>\n",
       "      <th></th>\n",
       "      <th></th>\n",
       "    </tr>\n",
       "  </thead>\n",
       "  <tbody>\n",
       "    <tr>\n",
       "      <th>2021-01-02</th>\n",
       "      <td>0.18134</td>\n",
       "      <td>0.18473</td>\n",
       "      <td>0.17000</td>\n",
       "      <td>4.622016e+08</td>\n",
       "      <td>ADAUSDT</td>\n",
       "      <td>0.17509</td>\n",
       "    </tr>\n",
       "    <tr>\n",
       "      <th>2021-01-03</th>\n",
       "      <td>0.17505</td>\n",
       "      <td>0.18457</td>\n",
       "      <td>0.16793</td>\n",
       "      <td>6.603033e+08</td>\n",
       "      <td>ADAUSDT</td>\n",
       "      <td>0.17742</td>\n",
       "    </tr>\n",
       "    <tr>\n",
       "      <th>2021-01-04</th>\n",
       "      <td>0.17740</td>\n",
       "      <td>0.20960</td>\n",
       "      <td>0.17255</td>\n",
       "      <td>1.201451e+09</td>\n",
       "      <td>ADAUSDT</td>\n",
       "      <td>0.20615</td>\n",
       "    </tr>\n",
       "    <tr>\n",
       "      <th>2021-01-05</th>\n",
       "      <td>0.20625</td>\n",
       "      <td>0.23992</td>\n",
       "      <td>0.19203</td>\n",
       "      <td>1.463416e+09</td>\n",
       "      <td>ADAUSDT</td>\n",
       "      <td>0.22528</td>\n",
       "    </tr>\n",
       "    <tr>\n",
       "      <th>2021-01-06</th>\n",
       "      <td>0.22518</td>\n",
       "      <td>0.26429</td>\n",
       "      <td>0.20696</td>\n",
       "      <td>1.478888e+09</td>\n",
       "      <td>ADAUSDT</td>\n",
       "      <td>0.25873</td>\n",
       "    </tr>\n",
       "    <tr>\n",
       "      <th>...</th>\n",
       "      <td>...</td>\n",
       "      <td>...</td>\n",
       "      <td>...</td>\n",
       "      <td>...</td>\n",
       "      <td>...</td>\n",
       "      <td>...</td>\n",
       "    </tr>\n",
       "    <tr>\n",
       "      <th>2023-03-29</th>\n",
       "      <td>0.47890</td>\n",
       "      <td>0.53400</td>\n",
       "      <td>0.46660</td>\n",
       "      <td>1.126346e+09</td>\n",
       "      <td>XRPUSDT</td>\n",
       "      <td>0.51440</td>\n",
       "    </tr>\n",
       "    <tr>\n",
       "      <th>2023-03-30</th>\n",
       "      <td>0.51450</td>\n",
       "      <td>0.58500</td>\n",
       "      <td>0.51450</td>\n",
       "      <td>1.291816e+09</td>\n",
       "      <td>XRPUSDT</td>\n",
       "      <td>0.54250</td>\n",
       "    </tr>\n",
       "    <tr>\n",
       "      <th>2023-03-31</th>\n",
       "      <td>0.54250</td>\n",
       "      <td>0.55800</td>\n",
       "      <td>0.52140</td>\n",
       "      <td>8.276913e+08</td>\n",
       "      <td>XRPUSDT</td>\n",
       "      <td>0.53190</td>\n",
       "    </tr>\n",
       "    <tr>\n",
       "      <th>2023-04-01</th>\n",
       "      <td>0.53190</td>\n",
       "      <td>0.56400</td>\n",
       "      <td>0.52570</td>\n",
       "      <td>5.328756e+08</td>\n",
       "      <td>XRPUSDT</td>\n",
       "      <td>0.53740</td>\n",
       "    </tr>\n",
       "    <tr>\n",
       "      <th>2023-04-02</th>\n",
       "      <td>0.53750</td>\n",
       "      <td>0.53750</td>\n",
       "      <td>0.49720</td>\n",
       "      <td>5.160878e+08</td>\n",
       "      <td>XRPUSDT</td>\n",
       "      <td>0.50950</td>\n",
       "    </tr>\n",
       "  </tbody>\n",
       "</table>\n",
       "<p>8210 rows × 6 columns</p>\n",
       "</div>"
      ],
      "text/plain": [
       "               open     high      low        volume   symbol    close\n",
       "Date                                                                 \n",
       "2021-01-02  0.18134  0.18473  0.17000  4.622016e+08  ADAUSDT  0.17509\n",
       "2021-01-03  0.17505  0.18457  0.16793  6.603033e+08  ADAUSDT  0.17742\n",
       "2021-01-04  0.17740  0.20960  0.17255  1.201451e+09  ADAUSDT  0.20615\n",
       "2021-01-05  0.20625  0.23992  0.19203  1.463416e+09  ADAUSDT  0.22528\n",
       "2021-01-06  0.22518  0.26429  0.20696  1.478888e+09  ADAUSDT  0.25873\n",
       "...             ...      ...      ...           ...      ...      ...\n",
       "2023-03-29  0.47890  0.53400  0.46660  1.126346e+09  XRPUSDT  0.51440\n",
       "2023-03-30  0.51450  0.58500  0.51450  1.291816e+09  XRPUSDT  0.54250\n",
       "2023-03-31  0.54250  0.55800  0.52140  8.276913e+08  XRPUSDT  0.53190\n",
       "2023-04-01  0.53190  0.56400  0.52570  5.328756e+08  XRPUSDT  0.53740\n",
       "2023-04-02  0.53750  0.53750  0.49720  5.160878e+08  XRPUSDT  0.50950\n",
       "\n",
       "[8210 rows x 6 columns]"
      ]
     },
     "execution_count": 6,
     "metadata": {},
     "output_type": "execute_result"
    }
   ],
   "source": [
    "price"
   ]
  },
  {
   "cell_type": "code",
   "execution_count": 7,
   "metadata": {},
   "outputs": [
    {
     "data": {
      "text/plain": [
       "[0.22528, 0.25873]"
      ]
     },
     "execution_count": 7,
     "metadata": {},
     "output_type": "execute_result"
    }
   ],
   "source": [
    "price.iloc[3:5].close.to_list()"
   ]
  },
  {
   "cell_type": "code",
   "execution_count": 8,
   "metadata": {},
   "outputs": [],
   "source": [
    "daily = pd.pivot_table(price, values=\"close\", index=\"Date\", columns=\"symbol\")"
   ]
  },
  {
   "cell_type": "code",
   "execution_count": 9,
   "metadata": {},
   "outputs": [
    {
     "data": {
      "text/plain": [
       "Index(['ADAUSDT', 'BNBUSDT', 'BTCUSDT', 'DOGEUSDT', 'ETCUSDT', 'ETHUSDT',\n",
       "       'LTCUSDT', 'SOLUSDT', 'TRXUSDT', 'XRPUSDT'],\n",
       "      dtype='object', name='symbol')"
      ]
     },
     "execution_count": 9,
     "metadata": {},
     "output_type": "execute_result"
    }
   ],
   "source": [
    "daily.columns"
   ]
  },
  {
   "cell_type": "code",
   "execution_count": 10,
   "metadata": {},
   "outputs": [],
   "source": [
    "valid1 = daily[(daily.index >= VALID_1_START_DATE) & (daily.index < VALID_1_END_DATE)]\n",
    "valid2 = daily[(daily.index >= VALID_2_START_DATE) & (daily.index < VALID_2_END_DATE)]\n",
    "valid3 = daily[(daily.index >= TEST_START_DATE) & (daily.index < TEST_END_DATE)]\n",
    "\n",
    "train1 = daily[daily.index < TRAIN_END_DATE]\n",
    "train2 = daily[daily.index < VALID_1_END_DATE]\n",
    "train3 = daily[daily.index < VALID_2_END_DATE]"
   ]
  },
  {
   "cell_type": "code",
   "execution_count": 11,
   "metadata": {},
   "outputs": [
    {
     "name": "stdout",
     "output_type": "stream",
     "text": [
      "Expected annual return: 69.1%\n",
      "Annual volatility: 80.1%\n",
      "Sharpe Ratio: 0.84\n"
     ]
    },
    {
     "data": {
      "text/plain": [
       "(0.690955017423698, 0.8014854447074872, 0.8371393664779178)"
      ]
     },
     "execution_count": 11,
     "metadata": {},
     "output_type": "execute_result"
    }
   ],
   "source": [
    "from pypfopt.efficient_frontier import EfficientFrontier\n",
    "from pypfopt import risk_models\n",
    "from pypfopt import expected_returns\n",
    "\n",
    "mu = expected_returns.capm_return(train3)\n",
    "S = risk_models.sample_cov(train3)\n",
    "ef = EfficientFrontier(mu, S)\n",
    "weights = ef.max_sharpe()\n",
    "cleaned_weights = ef.clean_weights()\n",
    "ef.portfolio_performance(verbose=True)"
   ]
  },
  {
   "cell_type": "code",
   "execution_count": 12,
   "metadata": {},
   "outputs": [
    {
     "data": {
      "text/plain": [
       "OrderedDict([('ADAUSDT', 0.1),\n",
       "             ('BNBUSDT', 0.1),\n",
       "             ('BTCUSDT', 0.1),\n",
       "             ('DOGEUSDT', 0.1),\n",
       "             ('ETCUSDT', 0.1),\n",
       "             ('ETHUSDT', 0.1),\n",
       "             ('LTCUSDT', 0.1),\n",
       "             ('SOLUSDT', 0.1),\n",
       "             ('TRXUSDT', 0.1),\n",
       "             ('XRPUSDT', 0.1)])"
      ]
     },
     "execution_count": 12,
     "metadata": {},
     "output_type": "execute_result"
    }
   ],
   "source": [
    "cleaned_weights"
   ]
  },
  {
   "cell_type": "code",
   "execution_count": 13,
   "metadata": {},
   "outputs": [
    {
     "name": "stdout",
     "output_type": "stream",
     "text": [
      "Discrete allocation: {'ADAUSDT': 40683, 'BNBUSDT': 40, 'DOGEUSDT': 146198, 'ETCUSDT': 643, 'ETHUSDT': 8, 'LTCUSDT': 147, 'SOLUSDT': 1010, 'TRXUSDT': 183857, 'XRPUSDT': 28977}\n",
      "Funds remaining: $10583.48\n",
      "Initial value: $100000.00\n",
      "Investment value: $137956.05\n"
     ]
    }
   ],
   "source": [
    "from pypfopt.discrete_allocation import DiscreteAllocation, get_latest_prices\n",
    "latest_prices = get_latest_prices(train3)\n",
    "weights = cleaned_weights\n",
    "da = DiscreteAllocation(weights, latest_prices, total_portfolio_value=100000)\n",
    "\n",
    "allocation, leftover = da.greedy_portfolio()\n",
    "print(\"Discrete allocation:\", allocation)\n",
    "print(\"Funds remaining: ${:.2f}\".format(leftover))\n",
    "real_value = 0\n",
    "for i in allocation.items():\n",
    "    real_value += valid3.loc[valid3.iloc[-1].name, i[0]] * i[1]\n",
    "print(\"Initial value: ${:.2f}\".format(100000))\n",
    "print(\"Investment value: ${:.2f}\".format(real_value + leftover))\n"
   ]
  },
  {
   "attachments": {},
   "cell_type": "markdown",
   "metadata": {},
   "source": [
    "# equal weight"
   ]
  },
  {
   "cell_type": "code",
   "execution_count": 15,
   "metadata": {},
   "outputs": [
    {
     "data": {
      "text/plain": [
       "symbol\n",
       "ADAUSDT      40683.482506\n",
       "BNBUSDT         40.600893\n",
       "BTCUSDT          0.604507\n",
       "DOGEUSDT    142348.754448\n",
       "ETCUSDT        637.348630\n",
       "ETHUSDT          8.360295\n",
       "LTCUSDT        142.571999\n",
       "SOLUSDT       1003.009027\n",
       "TRXUSDT     183486.238532\n",
       "XRPUSDT      29507.229271\n",
       "Name: 2023-01-01, dtype: float64"
      ]
     },
     "execution_count": 15,
     "metadata": {},
     "output_type": "execute_result"
    }
   ],
   "source": [
    "10000 / valid3.iloc[0]"
   ]
  },
  {
   "cell_type": "code",
   "execution_count": 16,
   "metadata": {},
   "outputs": [],
   "source": [
    "portfolio_value_list = []\n",
    "allocation = 10000 / valid3.iloc[0]\n",
    "for i in range(len(valid3)):\n",
    "    tot = 0\n",
    "    for j in allocation.items():\n",
    "        tot += valid3.loc[valid3.iloc[i].name, j[0]] * j[1]\n",
    "    portfolio_value_list.append(tot)\n",
    "res = pd.DataFrame(portfolio_value_list, index=valid3.index, columns=[\"portfolio_value\"])\n"
   ]
  },
  {
   "cell_type": "code",
   "execution_count": 17,
   "metadata": {},
   "outputs": [],
   "source": [
    "res.reset_index(inplace=True)\n",
    "res.rename(columns={\"Date\": \"timestamp\"}, inplace=True)"
   ]
  },
  {
   "cell_type": "code",
   "execution_count": 18,
   "metadata": {},
   "outputs": [
    {
     "data": {
      "text/plain": [
       "Annual return          1.801536\n",
       "Cumulative returns     0.444722\n",
       "Annual volatility      0.516303\n",
       "Sharpe ratio           2.275192\n",
       "Calmar ratio           8.314937\n",
       "Stability              0.176427\n",
       "Max drawdown          -0.216663\n",
       "Omega ratio            1.442527\n",
       "Sortino ratio          3.795303\n",
       "Skew                        NaN\n",
       "Kurtosis                    NaN\n",
       "Tail ratio             1.326499\n",
       "Daily value at risk   -0.060387\n",
       "dtype: float64"
      ]
     },
     "execution_count": 18,
     "metadata": {},
     "output_type": "execute_result"
    }
   ],
   "source": [
    "backtest_stats(res, value_col_name=\"portfolio_value\")"
   ]
  }
 ],
 "metadata": {
  "kernelspec": {
   "display_name": "torch_RL",
   "language": "python",
   "name": "python3"
  },
  "language_info": {
   "codemirror_mode": {
    "name": "ipython",
    "version": 3
   },
   "file_extension": ".py",
   "mimetype": "text/x-python",
   "name": "python",
   "nbconvert_exporter": "python",
   "pygments_lexer": "ipython3",
   "version": "3.10.6"
  },
  "orig_nbformat": 4,
  "vscode": {
   "interpreter": {
    "hash": "ea59a3180d7382e8654bfac75c404e2e01028a8b8a0c7675a4a4d2ca4aed5bab"
   }
  }
 },
 "nbformat": 4,
 "nbformat_minor": 2
}
